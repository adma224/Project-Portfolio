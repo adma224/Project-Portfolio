{
 "cells": [
  {
   "cell_type": "code",
   "execution_count": null,
   "metadata": {},
   "outputs": [],
   "source": [
    "import pandas as pd\n",
    "import numpy  as np\n",
    "import matplotlib.pyplot as plt\n",
    "from sklearn import svm\n",
    "import random\n",
    "from sklearn.neighbors import KNeighborsClassifier\n",
    "from sklearn.cluster import KMeans\n",
    "from sklearn.mixture import GaussianMixture\n",
    "\n",
    "test_size = 1000"
   ]
  },
  {
   "cell_type": "code",
   "execution_count": null,
   "metadata": {},
   "outputs": [],
   "source": [
    "co_p = np.random.normal(1,1,size=(1000+test_size,2))\n",
    "co_n = np.random.normal(1,1,size=(1000+test_size,2))\n",
    "\n",
    "X_p = pd.DataFrame(co_p,columns=['x0','x1'])\n",
    "X_n = pd.DataFrame(co_n,columns=['x0','x1'])"
   ]
  },
  {
   "cell_type": "code",
   "execution_count": null,
   "metadata": {},
   "outputs": [],
   "source": [
    "X_p"
   ]
  },
  {
   "cell_type": "code",
   "execution_count": null,
   "metadata": {},
   "outputs": [],
   "source": [
    "X_n"
   ]
  },
  {
   "cell_type": "code",
   "execution_count": null,
   "metadata": {},
   "outputs": [],
   "source": [
    "mean = 0\n",
    "for i in range(0,20):\n",
    "    \n",
    "    # Flipping Labels\n",
    "    y_p = np.full(1000+test_size,1)\n",
    "    y_n = np.full(1000+test_size,-1)\n",
    "    for j in range(0,len(y_p)):\n",
    "        y_p[j] = 1 if (random.randint(0,100)>35) else -1\n",
    "    for j in range(0,len(y_n)):\n",
    "        y_n[j] = -1 if (random.randint(0,100)>20) else 1\n",
    "        \n",
    "    # Constructing Dataframe\n",
    "    df_p = pd.concat([X_p,pd.DataFrame(y_p,columns=['y'])],1)\n",
    "    df_n = pd.concat([X_n,pd.DataFrame(y_n,columns=['y'])],1)\n",
    "    df  = pd.concat([df_p,df_n],0)\n",
    "    \n",
    "    # Running SVM\n",
    "    clf_a = svm.SVC(kernel='rbf', C=1, gamma=0.01)\n",
    "    clf_a.fit(df[['x0','x1']][:1000],df['y'][:1000])\n",
    "    score = clf_a.score(df[['x0','x1']][1000:],df['y'][1000:])\n",
    "    \n",
    "    # Report Scores\n",
    "    print(score)\n",
    "    mean +=score\n",
    "    \n",
    "mean = mean/20\n",
    "mean"
   ]
  },
  {
   "cell_type": "code",
   "execution_count": null,
   "metadata": {},
   "outputs": [],
   "source": [
    "mean = 0\n",
    "for i in range(0,20):\n",
    "    \n",
    "    # Flipping Labels\n",
    "    y_p = np.full(1000+test_size,1)\n",
    "    y_n = np.full(1000+test_size,-1)\n",
    "    for j in range(0,len(y_p)):\n",
    "        y_p[j] = 1 if (random.randint(0,100)>35) else -1\n",
    "    for j in range(0,len(y_n)):\n",
    "        y_n[j] = -1 if (random.randint(0,100)>20) else 1\n",
    "        \n",
    "    # Constructing Dataframe\n",
    "    df_p = pd.concat([X_p,pd.DataFrame(y_p,columns=['y'])],1)\n",
    "    df_n = pd.concat([X_n,pd.DataFrame(y_n,columns=['y'])],1)\n",
    "    df  = pd.concat([df_p,df_n],0)\n",
    "    \n",
    "    cleaner = KNeighborsClassifier(n_neighbors=100).fit(df[['x0','x1']],df['y'])\n",
    "    df['y'] = cleaner.predict(df[['x0','x1']])\n",
    "    \n",
    "    # Running SVM\n",
    "    clf_a = svm.SVC(kernel='rbf', C=1, gamma=0.01)\n",
    "    clf_a.fit(df[['x0','x1']][:1000],df['y'][:1000])\n",
    "    score = clf_a.score(df[['x0','x1']][1000:],df['y'][1000:])\n",
    "    \n",
    "    # Report Scores\n",
    "    print(score)\n",
    "    mean +=score\n",
    "    \n",
    "mean = mean/20\n",
    "mean"
   ]
  },
  {
   "cell_type": "code",
   "execution_count": null,
   "metadata": {},
   "outputs": [],
   "source": [
    "mean = 0\n",
    "for i in range(0,20):\n",
    "    \n",
    "    # Flipping Labels\n",
    "    y_p = np.full(1000+test_size,1)\n",
    "    y_n = np.full(1000+test_size,-1)\n",
    "    for j in range(0,len(y_p)):\n",
    "        y_p[j] = 1 if (random.randint(0,100)>35) else -1\n",
    "    for j in range(0,len(y_n)):\n",
    "        y_n[j] = -1 if (random.randint(0,100)>20) else 1\n",
    "        \n",
    "    # Constructing Dataframe\n",
    "    df_p = pd.concat([X_p,pd.DataFrame(y_p,columns=['y'])],1)\n",
    "    df_n = pd.concat([X_n,pd.DataFrame(y_n,columns=['y'])],1)\n",
    "    df  = pd.concat([df_p,df_n],0)\n",
    "    \n",
    "    df['y'] = KMeans(n_clusters=2, random_state=0).fit_predict(df[['x0','x1']])\n",
    "    \n",
    "    # Running SVM\n",
    "    clf_a = svm.SVC(kernel='rbf', C=1, gamma=0.01)\n",
    "    clf_a.fit(df[['x0','x1']][:1000],df['y'][:1000])\n",
    "    score = clf_a.score(df[['x0','x1']][1000:],df['y'][1000:])\n",
    "    \n",
    "    # Report Scores\n",
    "    print(score)\n",
    "    mean +=score\n",
    "    \n",
    "mean = mean/20\n",
    "mean"
   ]
  },
  {
   "cell_type": "code",
   "execution_count": null,
   "metadata": {},
   "outputs": [],
   "source": [
    "mean = 0\n",
    "for i in range(0,20):\n",
    "    \n",
    "    # Flipping Labels\n",
    "    y_p = np.full(1000+test_size,1)\n",
    "    y_n = np.full(1000+test_size,-1)\n",
    "    for j in range(0,len(y_p)):\n",
    "        y_p[j] = 1 if (random.randint(0,100)>35) else -1\n",
    "    for j in range(0,len(y_n)):\n",
    "        y_n[j] = -1 if (random.randint(0,100)>20) else 1\n",
    "        \n",
    "    # Constructing Dataframe\n",
    "    df_p = pd.concat([X_p,pd.DataFrame(y_p,columns=['y'])],1)\n",
    "    df_n = pd.concat([X_n,pd.DataFrame(y_n,columns=['y'])],1)\n",
    "    df  = pd.concat([df_p,df_n],0)\n",
    "    \n",
    "    df['y'] = GaussianMixture(n_components=2, covariance_type='full').fit_predict(df[['x0','x1']])\n",
    "    \n",
    "    # Running SVM\n",
    "    clf_a = svm.SVC(kernel='rbf', C=1, gamma=0.01)\n",
    "    clf_a.fit(df[['x0','x1']][:1000],df['y'][:1000])\n",
    "    score = clf_a.score(df[['x0','x1']][1000:],df['y'][1000:])\n",
    "    \n",
    "    # Report Scores\n",
    "    print(score)\n",
    "    mean +=score\n",
    "    \n",
    "mean = mean/20\n",
    "mean"
   ]
  }
 ],
 "metadata": {
  "kernelspec": {
   "display_name": "Python 3 (ipykernel)",
   "language": "python",
   "name": "python3"
  },
  "language_info": {
   "codemirror_mode": {
    "name": "ipython",
    "version": 3
   },
   "file_extension": ".py",
   "mimetype": "text/x-python",
   "name": "python",
   "nbconvert_exporter": "python",
   "pygments_lexer": "ipython3",
   "version": "3.11.5"
  }
 },
 "nbformat": 4,
 "nbformat_minor": 4
}
