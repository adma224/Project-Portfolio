{
 "cells": [
  {
   "cell_type": "code",
   "execution_count": 1,
   "id": "1bae30f8",
   "metadata": {},
   "outputs": [],
   "source": [
    "import requests\n",
    "import time\n",
    "import tarfile\n",
    "import boto3\n",
    "import os\n",
    "from botocore.exceptions import ClientError\n",
    "import time\n",
    " # Importing variables from variables.py"
   ]
  },
  {
   "cell_type": "code",
   "execution_count": null,
   "id": "06244038",
   "metadata": {},
   "outputs": [],
   "source": [
    "import sys\n",
    "sys.path.append('/path/to/aws_cloud')  # Replace with the absolute path to aws_cloud\n",
    "\n",
    "from my_dependencies import variables"
   ]
  },
  {
   "cell_type": "code",
   "execution_count": null,
   "id": "c8ba5bea",
   "metadata": {},
   "outputs": [],
   "source": [
    "def create_s3_bucket(bucket_name):\n",
    "    try:\n",
    "        s3 = boto3.client('s3', region_name=variables.AWS_DEFAULT_REGION)\n",
    "        s3.create_bucket(Bucket=bucket_name, \n",
    "                         CreateBucketConfiguration={'LocationConstraint': variables.AWS_DEFAULT_REGION})\n",
    "        print(f\"Bucket {bucket_name} created.\")\n",
    "    except boto3.exceptions.Boto3Error as e:\n",
    "        print(f\"Failed to create bucket: {e}\")\n",
    "\n",
    "def retry_upload(local_path, bucket_name, s3_path, retries=3, delay=2):\n",
    "    s3 = boto3.client('s3', region_name=variables.AWS_DEFAULT_REGION)\n",
    "    for attempt in range(retries):\n",
    "        try:\n",
    "            s3.upload_file(local_path, bucket_name, s3_path)\n",
    "            print(f\"Uploaded: {s3_path}\")\n",
    "            return\n",
    "        except ClientError as e:\n",
    "            print(f\"Retry {attempt+1}/{retries} failed for {local_path}. Error: {e}\")\n",
    "            time.sleep(delay)\n",
    "    print(f\"Failed to upload {local_path} after {retries} retries.\")\n",
    "\n",
    "def upload_directory_to_s3(bucket_name, directory_path):\n",
    "    for root, dirs, files in os.walk(directory_path):\n",
    "        for file in files:\n",
    "            try:\n",
    "                local_path = os.path.join(root, file)\n",
    "                s3_path = os.path.relpath(local_path, start=directory_path)\n",
    "                retry_upload(local_path, bucket_name, s3_path)\n",
    "            except Exception as e:\n",
    "                print(f\"Failed to upload {local_path}. Error: {e}\")"
   ]
  },
  {
   "cell_type": "code",
   "execution_count": 6,
   "id": "e3a61d6a",
   "metadata": {},
   "outputs": [
    {
     "name": "stdout",
     "output_type": "stream",
     "text": [
      "Failed to download file_list.mat. Status code: 404\n",
      "Failed to download train_list.mat. Status code: 404\n",
      "Failed to download test_list.mat. Status code: 404\n",
      "Failed to download annotations.zip. Status code: 404\n",
      "Failed to download images.zip. Status code: 404\n"
     ]
    }
   ],
   "source": [
    "import requests\n",
    "import os\n",
    "\n",
    "def download_file(url, filename, directory):\n",
    "    \"\"\" Download a file from a given URL and save it in a specified directory \"\"\"\n",
    "    # Ensure directory exists\n",
    "    os.makedirs(directory, exist_ok=True)\n",
    "    \n",
    "    # Complete path for the file\n",
    "    file_path = os.path.join(directory, filename)\n",
    "    \n",
    "    response = requests.get(url)\n",
    "    if response.status_code == 200:\n",
    "        with open(file_path, 'wb') as file:\n",
    "            file.write(response.content)\n",
    "        print(f\"Downloaded {filename} to {directory}\")\n",
    "    else:\n",
    "        print(f\"Failed to download {filename}. Status code: {response.status_code}\")\n",
    "\n",
    "# Base URL (adjust as needed)\n",
    "base_url = 'http://vision.stanford.edu/aditya86/ImageNetDogs/'\n",
    "\n",
    "# List of files to download\n",
    "files = ['file_list.mat', 'train_list.mat', 'test_list.mat', \n",
    "         'annotations.zip', 'images.zip']\n",
    "\n",
    "# Directory to save files\n",
    "save_directory = os.getcwd()  # Current working directory\n",
    "\n",
    "# Download each file\n",
    "for file in files:\n",
    "    download_url = base_url + file\n",
    "    download_file(download_url, file, save_directory)\n",
    "\n",
    "# Additional code might be needed for 'images/' and 'annotations/' directories\n"
   ]
  },
  {
   "cell_type": "code",
   "execution_count": null,
   "id": "698da597",
   "metadata": {},
   "outputs": [],
   "source": [
    "# URL of the tar file\n",
    "url = 'http://vision.stanford.edu/aditya86/ImageNetDogs/images.tar'\n",
    "\n",
    "# Start the timer\n",
    "start_time = time.time()\n",
    "\n",
    "# Send a GET request to the URL\n",
    "response = requests.get(url)\n",
    "\n",
    "# Check if the request was successful\n",
    "if response.status_code == 200:\n",
    "    # Save the content of the response as a file\n",
    "    with open('images.tar', 'wb') as file:\n",
    "        file.write(response.content)\n",
    "    print(\"File downloaded and saved as 'images.tar'\")\n",
    "else:\n",
    "    print(f\"Failed to download the file. Status code: {response.status_code}\")\n",
    "\n",
    "# End the timer\n",
    "end_time = time.time()\n",
    "\n",
    "# Calculate the duration\n",
    "duration = end_time - start_time\n",
    "print(f\"Download completed in {duration:.2f} seconds\")\n"
   ]
  },
  {
   "cell_type": "code",
   "execution_count": null,
   "id": "5b189191",
   "metadata": {},
   "outputs": [],
   "source": [
    "# URL of the Stanford Dogs Dataset\n",
    "url = 'http://vision.stanford.edu/aditya86/ImageNetDogs/images.tar'\n",
    "\n",
    "# Download the dataset\n",
    "try:\n",
    "    print(\"Downloading dataset...\")\n",
    "    response = requests.get(url, stream=True)\n",
    "    response.raise_for_status()\n",
    "\n",
    "    tar_file_path = 'stanford_dogs_dataset.tar'\n",
    "    with open(tar_file_path, 'wb') as file:\n",
    "        for chunk in response.iter_content(chunk_size=1024):\n",
    "            file.write(chunk)\n",
    "except requests.exceptions.RequestException as e:\n",
    "    print(f\"Error downloading dataset: {e}\")\n",
    "    exit(1)"
   ]
  },
  {
   "cell_type": "code",
   "execution_count": null,
   "id": "42c0d9cc",
   "metadata": {},
   "outputs": [],
   "source": [
    "# Decompress the tar file\n",
    "try:\n",
    "    print(\"Decompressing the dataset...\")\n",
    "    with tarfile.open(tar_file_path, 'r') as tar:\n",
    "        tar.extractall(path='stanford_dogs_dataset')\n",
    "    print('Download and extraction complete!')\n",
    "except (tarfile.TarError, IOError) as e:\n",
    "    print(f\"Error extracting tar file: {e}\")\n",
    "    exit(1)"
   ]
  },
  {
   "cell_type": "code",
   "execution_count": null,
   "id": "055415dd",
   "metadata": {},
   "outputs": [],
   "source": [
    "\n",
    "# Create S3 Bucket (if it doesn't exist)\n",
    "create_s3_bucket(variables.MY_APP_BUCKET_NAME)\n",
    "\n",
    "# Upload to S3\n",
    "directory_path = 'stanford_dogs_dataset'  # Local directory with the dataset\n",
    "print(\"Uploading to S3...\")\n",
    "upload_directory_to_s3(variables.MY_APP_BUCKET_NAME, directory_path)\n",
    "print(\"Upload complete!\")"
   ]
  }
 ],
 "metadata": {
  "kernelspec": {
   "display_name": "Python 3 (ipykernel)",
   "language": "python",
   "name": "python3"
  },
  "language_info": {
   "codemirror_mode": {
    "name": "ipython",
    "version": 3
   },
   "file_extension": ".py",
   "mimetype": "text/x-python",
   "name": "python",
   "nbconvert_exporter": "python",
   "pygments_lexer": "ipython3",
   "version": "3.11.5"
  }
 },
 "nbformat": 4,
 "nbformat_minor": 5
}
