{
 "cells": [
  {
   "cell_type": "code",
   "execution_count": 1,
   "id": "d9f2ebd0",
   "metadata": {},
   "outputs": [],
   "source": [
    "import pandas as pd\n",
    "import matplotlib.pyplot as plt"
   ]
  },
  {
   "cell_type": "code",
   "execution_count": null,
   "id": "46c39d15",
   "metadata": {},
   "outputs": [],
   "source": [
    "df = pd.read_csv('Train_SU63ISt.csv')\n",
    "df"
   ]
  },
  {
   "cell_type": "code",
   "execution_count": null,
   "id": "53da29c3",
   "metadata": {},
   "outputs": [],
   "source": [
    "df['Datetime'] = pd.to_datetime(df['Datetime'])"
   ]
  },
  {
   "cell_type": "code",
   "execution_count": null,
   "id": "b0c7d018",
   "metadata": {},
   "outputs": [],
   "source": [
    "df.set_index('Datetime', inplace=True)\n",
    "df.drop('ID', axis=1, inplace=True)\n"
   ]
  },
  {
   "cell_type": "code",
   "execution_count": null,
   "id": "bf9d424f",
   "metadata": {},
   "outputs": [],
   "source": [
    "df['Count'].plot()\n",
    "plt.show()"
   ]
  },
  {
   "cell_type": "code",
   "execution_count": null,
   "id": "c9732c1a",
   "metadata": {},
   "outputs": [],
   "source": [
    "from statsmodels.tsa.seasonal import seasonal_decompose\n",
    "\n",
    "result = seasonal_decompose(df['Count'], model='additive')\n",
    "result.plot()\n",
    "plt.show()"
   ]
  },
  {
   "cell_type": "code",
   "execution_count": null,
   "id": "b1eb6b8a",
   "metadata": {},
   "outputs": [],
   "source": [
    "df['Count'].describe()"
   ]
  },
  {
   "cell_type": "code",
   "execution_count": null,
   "id": "9466d302",
   "metadata": {},
   "outputs": [],
   "source": [
    "df['Count'].plot(kind='hist', bins=30)\n",
    "plt.title('Histogram of Traffic Counts')\n",
    "plt.xlabel('Count')\n",
    "plt.show()\n",
    "\n",
    "df['Count'].plot(kind='box')\n",
    "plt.title('Boxplot of Traffic Counts')\n",
    "plt.show()"
   ]
  },
  {
   "cell_type": "code",
   "execution_count": null,
   "id": "63ca72f5",
   "metadata": {},
   "outputs": [],
   "source": [
    "# Convert the index to datetime if it's not already\n",
    "df.index = pd.to_datetime(df.index)\n",
    "\n",
    "df['day_of_week'] = df.index.dayofweek  # Monday=0, Sunday=6\n",
    "df['hour'] = df.index.hour\n",
    "df['month'] = df.index.month\n",
    "df['day_of_month'] = df.index.day\n",
    "df"
   ]
  },
  {
   "cell_type": "code",
   "execution_count": null,
   "id": "953a93a0",
   "metadata": {},
   "outputs": [],
   "source": [
    "df.columns"
   ]
  },
  {
   "cell_type": "code",
   "execution_count": null,
   "id": "2f5a818e",
   "metadata": {},
   "outputs": [],
   "source": [
    "import seaborn as sns\n",
    "\n",
    "# Assuming 'day_of_week' and 'hour' features are created\n",
    "correlation_matrix = df[['Count', 'day_of_week', 'hour', 'day_of_month', 'month']].corr()\n",
    "sns.heatmap(correlation_matrix, annot=True)\n",
    "plt.show()"
   ]
  },
  {
   "cell_type": "code",
   "execution_count": null,
   "id": "e8e22640",
   "metadata": {},
   "outputs": [],
   "source": [
    "# Group the data by 'month' and sum the 'Count' for each month\n",
    "monthly_counts = df.groupby('month')['Count'].mean()\n",
    "\n",
    "# Plot the total 'Count' for each month as a line or bar chart\n",
    "monthly_counts.plot(kind='bar')  # You can change 'bar' to 'line' if you prefer a line plot\n",
    "\n",
    "plt.title('Mean Count by Month')\n",
    "plt.xlabel('Month')\n",
    "plt.ylabel('Total Count')\n",
    "plt.xticks(ticks=range(len(monthly_counts)), labels=['Jan', 'Feb', 'Mar', 'Apr', 'May', 'Jun', 'Jul', 'Aug', 'Sep', 'Oct', 'Nov', 'Dec'], rotation=45)\n",
    "plt.show()\n"
   ]
  },
  {
   "cell_type": "code",
   "execution_count": null,
   "id": "4d9d1d36",
   "metadata": {},
   "outputs": [],
   "source": [
    "import matplotlib.pyplot as plt\n",
    "\n",
    "# Group the data by 'month' and sum the 'Count' for each month\n",
    "monthly_counts = df.groupby('month')['Count'].sum()\n",
    "\n",
    "# Plot the total 'Count' for each month as a line or bar chart\n",
    "monthly_counts.plot(kind='bar')  # You can change 'bar' to 'line' if you prefer a line plot\n",
    "\n",
    "plt.title('Total Count by Month')\n",
    "plt.xlabel('Month')\n",
    "plt.ylabel('Total Count')\n",
    "plt.xticks(ticks=range(len(monthly_counts)), labels=['Jan', 'Feb', 'Mar', 'Apr', 'May', 'Jun', 'Jul', 'Aug', 'Sep', 'Oct', 'Nov', 'Dec'], rotation=45)\n",
    "plt.show()"
   ]
  },
  {
   "cell_type": "code",
   "execution_count": null,
   "id": "059ce182",
   "metadata": {},
   "outputs": [],
   "source": [
    "# Group the data by 'month' and sum the 'Count' for each month\n",
    "monthly_counts = df.groupby('day_of_week')['Count'].mean()\n",
    "\n",
    "# Plot the total 'Count' for each month as a line or bar chart\n",
    "monthly_counts.plot(kind='bar')  # You can change 'bar' to 'line' if you prefer a line plot\n",
    "\n",
    "plt.title('Mean Count by DoW')\n",
    "plt.xlabel('Day of Week')\n",
    "plt.ylabel('Total Count')\n",
    "plt.xticks(ticks=range(len(monthly_counts)), labels=['Mon','Tue','Wed','Thu','Fri','Sat','Sun'], rotation=45)\n",
    "plt.show()"
   ]
  },
  {
   "cell_type": "code",
   "execution_count": null,
   "id": "f37a1c09",
   "metadata": {},
   "outputs": [],
   "source": [
    "df['hour'] = df.index.hour\n",
    "\n",
    "df['month'] = df.index.month\n",
    "df['year'] = df.index.year\n",
    "df.columns"
   ]
  },
  {
   "cell_type": "code",
   "execution_count": null,
   "id": "f7ae521b",
   "metadata": {},
   "outputs": [],
   "source": [
    "# First, resample and sum the 'Count' data to get a Series\n",
    "daily_counts = df['Count'].resample('D').sum()\n",
    "\n",
    "# Then, create the seasonal lag by shifting the Series\n",
    "count_seasonal_lag = daily_counts.shift(365)\n",
    "\n",
    "# If you want to combine them into a new DataFrame:\n",
    "daily_df = pd.DataFrame({'Count': daily_counts, 'Count_seasonal_lag': count_seasonal_lag})\n",
    "\n",
    "daily_df"
   ]
  },
  {
   "cell_type": "code",
   "execution_count": null,
   "id": "8e704083",
   "metadata": {
    "scrolled": true
   },
   "outputs": [],
   "source": [
    "from pmdarima import auto_arima\n",
    "\n",
    "model = auto_arima(daily_df['Count'], seasonal=True, m=365, trace=True, \n",
    "                   error_action='ignore', suppress_warnings=True)"
   ]
  },
  {
   "cell_type": "code",
   "execution_count": 9,
   "id": "0d5dc952",
   "metadata": {},
   "outputs": [
    {
     "data": {
      "text/html": [
       "<div>\n",
       "<style scoped>\n",
       "    .dataframe tbody tr th:only-of-type {\n",
       "        vertical-align: middle;\n",
       "    }\n",
       "\n",
       "    .dataframe tbody tr th {\n",
       "        vertical-align: top;\n",
       "    }\n",
       "\n",
       "    .dataframe thead th {\n",
       "        text-align: right;\n",
       "    }\n",
       "</style>\n",
       "<table border=\"1\" class=\"dataframe\">\n",
       "  <thead>\n",
       "    <tr style=\"text-align: right;\">\n",
       "      <th></th>\n",
       "      <th>ID</th>\n",
       "      <th>Datetime</th>\n",
       "    </tr>\n",
       "  </thead>\n",
       "  <tbody>\n",
       "    <tr>\n",
       "      <th>0</th>\n",
       "      <td>18288</td>\n",
       "      <td>26-09-2014 00:00</td>\n",
       "    </tr>\n",
       "    <tr>\n",
       "      <th>1</th>\n",
       "      <td>18289</td>\n",
       "      <td>26-09-2014 01:00</td>\n",
       "    </tr>\n",
       "    <tr>\n",
       "      <th>2</th>\n",
       "      <td>18290</td>\n",
       "      <td>26-09-2014 02:00</td>\n",
       "    </tr>\n",
       "    <tr>\n",
       "      <th>3</th>\n",
       "      <td>18291</td>\n",
       "      <td>26-09-2014 03:00</td>\n",
       "    </tr>\n",
       "    <tr>\n",
       "      <th>4</th>\n",
       "      <td>18292</td>\n",
       "      <td>26-09-2014 04:00</td>\n",
       "    </tr>\n",
       "    <tr>\n",
       "      <th>...</th>\n",
       "      <td>...</td>\n",
       "      <td>...</td>\n",
       "    </tr>\n",
       "    <tr>\n",
       "      <th>5107</th>\n",
       "      <td>23395</td>\n",
       "      <td>26-04-2015 19:00</td>\n",
       "    </tr>\n",
       "    <tr>\n",
       "      <th>5108</th>\n",
       "      <td>23396</td>\n",
       "      <td>26-04-2015 20:00</td>\n",
       "    </tr>\n",
       "    <tr>\n",
       "      <th>5109</th>\n",
       "      <td>23397</td>\n",
       "      <td>26-04-2015 21:00</td>\n",
       "    </tr>\n",
       "    <tr>\n",
       "      <th>5110</th>\n",
       "      <td>23398</td>\n",
       "      <td>26-04-2015 22:00</td>\n",
       "    </tr>\n",
       "    <tr>\n",
       "      <th>5111</th>\n",
       "      <td>23399</td>\n",
       "      <td>26-04-2015 23:00</td>\n",
       "    </tr>\n",
       "  </tbody>\n",
       "</table>\n",
       "<p>5112 rows × 2 columns</p>\n",
       "</div>"
      ],
      "text/plain": [
       "         ID          Datetime\n",
       "0     18288  26-09-2014 00:00\n",
       "1     18289  26-09-2014 01:00\n",
       "2     18290  26-09-2014 02:00\n",
       "3     18291  26-09-2014 03:00\n",
       "4     18292  26-09-2014 04:00\n",
       "...     ...               ...\n",
       "5107  23395  26-04-2015 19:00\n",
       "5108  23396  26-04-2015 20:00\n",
       "5109  23397  26-04-2015 21:00\n",
       "5110  23398  26-04-2015 22:00\n",
       "5111  23399  26-04-2015 23:00\n",
       "\n",
       "[5112 rows x 2 columns]"
      ]
     },
     "execution_count": 9,
     "metadata": {},
     "output_type": "execute_result"
    }
   ],
   "source": [
    "future_df = pd.read_csv('Test_0qrQsBZ.csv')\n",
    "future_df"
   ]
  },
  {
   "cell_type": "code",
   "execution_count": 10,
   "id": "e92f66d3",
   "metadata": {},
   "outputs": [],
   "source": [
    "future_df.drop('ID', axis=1, inplace=True)"
   ]
  },
  {
   "cell_type": "code",
   "execution_count": 12,
   "id": "baec9529",
   "metadata": {},
   "outputs": [
    {
     "data": {
      "text/plain": [
       "0       26-09-2014 00:00\n",
       "1       26-09-2014 01:00\n",
       "2       26-09-2014 02:00\n",
       "3       26-09-2014 03:00\n",
       "4       26-09-2014 04:00\n",
       "              ...       \n",
       "5107    26-04-2015 19:00\n",
       "5108    26-04-2015 20:00\n",
       "5109    26-04-2015 21:00\n",
       "5110    26-04-2015 22:00\n",
       "5111    26-04-2015 23:00\n",
       "Name: Datetime, Length: 5112, dtype: object"
      ]
     },
     "execution_count": 12,
     "metadata": {},
     "output_type": "execute_result"
    }
   ],
   "source": [
    "future_df['Datetime']"
   ]
  },
  {
   "cell_type": "code",
   "execution_count": 14,
   "id": "0b1a9190",
   "metadata": {},
   "outputs": [
    {
     "ename": "NameError",
     "evalue": "name 'model' is not defined",
     "output_type": "error",
     "traceback": [
      "\u001b[0;31m---------------------------------------------------------------------------\u001b[0m",
      "\u001b[0;31mNameError\u001b[0m                                 Traceback (most recent call last)",
      "Cell \u001b[0;32mIn[14], line 3\u001b[0m\n\u001b[1;32m      1\u001b[0m \u001b[38;5;66;03m# Make predictions\u001b[39;00m\n\u001b[1;32m      2\u001b[0m n_periods \u001b[38;5;241m=\u001b[39m \u001b[38;5;28mlen\u001b[39m(future_df[\u001b[38;5;124m'\u001b[39m\u001b[38;5;124mDatetime\u001b[39m\u001b[38;5;124m'\u001b[39m])\n\u001b[0;32m----> 3\u001b[0m forecasted_counts \u001b[38;5;241m=\u001b[39m model\u001b[38;5;241m.\u001b[39mpredict(n_periods\u001b[38;5;241m=\u001b[39mn_periods)\n",
      "\u001b[0;31mNameError\u001b[0m: name 'model' is not defined"
     ]
    }
   ],
   "source": [
    "# Make predictions\n",
    "n_periods = len(future_df['Datetime'])\n",
    "forecasted_counts = model.predict(n_periods=n_periods)"
   ]
  },
  {
   "cell_type": "code",
   "execution_count": null,
   "id": "5c7fb16a",
   "metadata": {},
   "outputs": [],
   "source": [
    "# Create a DataFrame with the future dates and the forecasted counts\n",
    "future_df = pd.DataFrame({'Datetime': future_dates, 'Predicted_Count': forecasted_counts})\n",
    "future_df.set_index('Datetime', inplace=True)"
   ]
  },
  {
   "cell_type": "code",
   "execution_count": null,
   "id": "1d69b421",
   "metadata": {},
   "outputs": [],
   "source": [
    "rom sklearn.metrics import mean_squared_error\n",
    "from math import sqrt\n",
    "\n",
    "# If you have actual test data to compare against\n",
    "test_actual = ...  # your actual observed counts\n",
    "\n",
    "# Compute RMSE\n",
    "rmse = sqrt(mean_squared_error(test_actual, future_forecasts[:len(test_actual)]))\n",
    "print(f'The RMSE is: {rmse}')"
   ]
  },
  {
   "cell_type": "code",
   "execution_count": null,
   "id": "0c9e99a0",
   "metadata": {},
   "outputs": [],
   "source": [
    "from sklearn.metrics import mean_squared_error\n",
    "from math import sqrt\n",
    "\n",
    "# Generate predictions\n",
    "predictions = model.predict(n_periods=len(test))\n",
    "\n",
    "# Calculate RMSE\n",
    "rmse = sqrt(mean_squared_error(test['Count'], predictions))"
   ]
  },
  {
   "cell_type": "code",
   "execution_count": null,
   "id": "786af1bf",
   "metadata": {},
   "outputs": [],
   "source": []
  },
  {
   "cell_type": "code",
   "execution_count": null,
   "id": "e054c56a",
   "metadata": {},
   "outputs": [],
   "source": []
  }
 ],
 "metadata": {
  "kernelspec": {
   "display_name": "Python 3 (ipykernel)",
   "language": "python",
   "name": "python3"
  },
  "language_info": {
   "codemirror_mode": {
    "name": "ipython",
    "version": 3
   },
   "file_extension": ".py",
   "mimetype": "text/x-python",
   "name": "python",
   "nbconvert_exporter": "python",
   "pygments_lexer": "ipython3",
   "version": "3.11.5"
  }
 },
 "nbformat": 4,
 "nbformat_minor": 5
}
